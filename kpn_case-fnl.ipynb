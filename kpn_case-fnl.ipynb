{
 "cells": [
  {
   "cell_type": "markdown",
   "metadata": {},
   "source": [
    "- Author: Anja Marunovic\n",
    "- Email: anja.marun@gmail.com\n",
    "- Amsterdam, 23 May 2018\n"
   ]
  },
  {
   "cell_type": "markdown",
   "metadata": {},
   "source": [
    "# KPN case Objective:\n",
    "----------------------------------\n",
    " Rebtel wants to gain insight in customers' sentiments towards Rebtel, and possible drivers for these sentiments.\n",
    " You are a Rebtel data scientist, and you've been asked to analyze the online reviews on Rebtel.\n",
    "To this end, you want to create a model that is capable of predicting the rating/sentiment an author would give.\n"
   ]
  },
  {
   "cell_type": "markdown",
   "metadata": {},
   "source": [
    "# Content:\n",
    "- Import data created by scraping in R\n",
    "- Preprocess the text\n",
    "- Part I: \n",
    "  - A. Modelling reviews ~ ratings\n",
    "       - Try different models\n",
    "       - Evaluate models\n",
    "       - Perform Grid Search for best performance\n",
    "  - B. Modelling reviews ~ ratings with downsampling\n",
    "       - Try different models\n",
    "       - Evaluate models\n",
    "       - Perform Grid Search for best performance\n",
    "- Part II: \n",
    "  - A. Modelling reviews ~ positivity\n",
    "       - Try different models\n",
    "       - Evaluate models\n",
    "       - Perform Grid Search for best performance\n",
    "  - B. Modelling reviews ~ positivity with downsampling\n",
    "       - Try different models\n",
    "       - Evaluate models\n",
    "       - Perform Grid Search for best performance"
   ]
  },
  {
   "cell_type": "markdown",
   "metadata": {},
   "source": [
    "# IMPORT FUNCTIONS"
   ]
  },
  {
   "cell_type": "code",
   "execution_count": 3,
   "metadata": {},
   "outputs": [],
   "source": [
    "import pandas as pd\n",
    "import numpy as np\n",
    "import matplotlib.pyplot as plt\n",
    "import seaborn as sns\n",
    "import nltk\n",
    "from nltk.corpus import stopwords"
   ]
  },
  {
   "cell_type": "code",
   "execution_count": 4,
   "metadata": {},
   "outputs": [],
   "source": [
    "import re, string, unicodedata\n",
    "import nltk\n",
    "import contractions\n",
    "import inflect\n",
    "from bs4 import BeautifulSoup\n",
    "from nltk import word_tokenize, sent_tokenize\n",
    "from nltk import word_tokenize, sent_tokenize\n",
    "from nltk.corpus import stopwords\n",
    "from nltk.stem import LancasterStemmer, WordNetLemmatizer"
   ]
  },
  {
   "cell_type": "code",
   "execution_count": 5,
   "metadata": {},
   "outputs": [],
   "source": [
    "from sklearn.pipeline import Pipeline\n",
    "from sklearn.model_selection import train_test_split\n",
    "from sklearn.feature_extraction.text import CountVectorizer\n",
    "from sklearn.feature_extraction.text import TfidfTransformer\n",
    "from sklearn.metrics import confusion_matrix, classification_report, accuracy_score\n",
    "from sklearn.naive_bayes import MultinomialNB\n",
    "from sklearn.ensemble import RandomForestClassifier"
   ]
  },
  {
   "cell_type": "code",
   "execution_count": 6,
   "metadata": {},
   "outputs": [],
   "source": [
    "pd.set_option('display.max_colwidth', 8000),\n",
    "pd.set_option('display.max_columns', None)"
   ]
  },
  {
   "cell_type": "markdown",
   "metadata": {},
   "source": [
    "## TEXT PREPROCESSING"
   ]
  },
  {
   "cell_type": "code",
   "execution_count": 7,
   "metadata": {},
   "outputs": [],
   "source": [
    "def remove_non_ascii(words):\n",
    "    \"\"\"Remove non-ASCII characters from list of tokenized words\"\"\"\n",
    "    new_words = []\n",
    "    for word in words:\n",
    "        new_word = unicodedata.normalize('NFKD', word).encode('ascii', 'ignore').decode('utf-8', 'ignore')\n",
    "        new_words.append(new_word)\n",
    "    return new_words\n",
    "\n",
    "def to_lowercase(words):\n",
    "    \"\"\"Convert all characters to lowercase from list of tokenized words\"\"\"\n",
    "    new_words = []\n",
    "    for word in words:\n",
    "        new_word = word.lower()\n",
    "        new_words.append(new_word)\n",
    "    return new_words\n",
    "\n",
    "\n",
    "def remove_punctuation(words):\n",
    "    \"\"\"Remove punctuation from list of tokenized words\"\"\"\n",
    "    new_words = []\n",
    "    for word in words:\n",
    "        new_word = re.sub(r'[^\\w\\s]', '', word)\n",
    "        if new_word != '':\n",
    "            new_words.append(new_word)\n",
    "    return new_words\n",
    "\n",
    "def replace_numbers(words):\n",
    "    \"\"\"Replace all interger occurrences in list of tokenized words with textual representation\"\"\"\n",
    "    p = inflect.engine()\n",
    "    new_words = []\n",
    "    for word in words:\n",
    "        if word.isdigit():\n",
    "            new_word = p.number_to_words(word)\n",
    "            new_words.append(new_word)\n",
    "        else:\n",
    "            new_words.append(word)\n",
    "    return new_words\n",
    "\n",
    "def remove_stopwords(words):\n",
    "    \"\"\"Remove stop words from list of tokenized words\"\"\"\n",
    "    new_words = []\n",
    "    for word in words:\n",
    "        if word not in stopwords.words('english'):\n",
    "            new_words.append(word)\n",
    "    return new_words\n",
    "\n",
    "def stem_words(words):\n",
    "    \"\"\"Stem words in list of tokenized words\"\"\"\n",
    "    stemmer = LancasterStemmer()\n",
    "    stems = []\n",
    "    for word in words:\n",
    "        stem = stemmer.stem(word)\n",
    "        stems.append(stem)\n",
    "    return stems\n",
    "\n",
    "def lemmatize_verbs(words):\n",
    "    \"\"\"Lemmatize verbs in list of tokenized words\"\"\"\n",
    "    lemmatizer = WordNetLemmatizer()\n",
    "    lemmas = []\n",
    "    for word in words:\n",
    "        lemma = lemmatizer.lemmatize(word, pos='v')\n",
    "        lemmas.append(lemma)\n",
    "    return lemmas\n",
    "\n",
    "def normalize(words):\n",
    "    words = remove_non_ascii(words)\n",
    "    words = to_lowercase(words)\n",
    "    words = remove_punctuation(words)\n",
    "    words = replace_numbers(words)\n",
    "    words = remove_stopwords(words)\n",
    "    words = lemmatize_verbs(words)\n",
    "    return words\n",
    "\n"
   ]
  },
  {
   "cell_type": "code",
   "execution_count": 8,
   "metadata": {},
   "outputs": [],
   "source": [
    "import string\n",
    "def text_process(text):\n",
    "    lemmatizer = WordNetLemmatizer()\n",
    "    '''\n",
    "    Takes in a string of text, then performs the following:\n",
    "    1. Remove non-ASCII characters\n",
    "    2. Remove all punctuation\n",
    "    3. Convert to lower case\n",
    "    4. Remove all stopwords\n",
    "    5. Lemmatize words\n",
    "    6. Return the cleaned text as a list of words\n",
    "    '''\n",
    "    nopunc = [unicodedata.normalize('NFKD', char).encode('ascii', 'ignore').decode('utf-8', 'ignore') for char in text]\n",
    "    nopunc = [char for char in nopunc if char not in string.punctuation]\n",
    "    nopunc = [char.lower() for char in nopunc]\n",
    "    nopunc = [char for char in nopunc if char not in stopwords.words('english')]\n",
    "    nopunc = ''.join(nopunc)\n",
    "    nopunc = ''.join(map(lambda c: '' if c in '0123456789' else c, nopunc))\n",
    "    \n",
    "    exclude = set(string.punctuation)\n",
    "    nopunc = ''.join(map(lambda c: '' if c in exclude else c, nopunc))\n",
    "        \n",
    "    return [lemmatizer.lemmatize(word, pos='v') for word in nopunc.split() if word not in stopwords.words('english')]\n",
    "\n",
    "\n",
    "import string\n",
    "def text_process_2(text):\n",
    "    lemmatizer = WordNetLemmatizer()\n",
    "    '''\n",
    "    Takes in a string of text, then performs the following:\n",
    "    1. Remove all punctuation\n",
    "    2. Remove all stopwords\n",
    "    3. Lemmatize words\n",
    "    4. Return the cleaned text as a list of words\n",
    "    '''\n",
    "    nopunc = [char for char in text if char not in string.punctuation]\n",
    "    nopunc = ''.join(nopunc)\n",
    "    \n",
    "    return [lemmatizer.lemmatize(word, pos='v') for word in nopunc.split() if word.lower() not in stopwords.words('english')]"
   ]
  },
  {
   "cell_type": "markdown",
   "metadata": {},
   "source": [
    "# IMPORT DATA"
   ]
  },
  {
   "cell_type": "code",
   "execution_count": 2,
   "metadata": {},
   "outputs": [],
   "source": [
    "rebtel = pd.read_csv('C:/Users/Thomas/Desktop/Desktop/Rebtel.tsv',delimiter='\\t',encoding='utf-8')"
   ]
  },
  {
   "cell_type": "markdown",
   "metadata": {},
   "source": [
    "---------------------------------------------------\n",
    "# PART I\n",
    "---------------------------------------------------"
   ]
  },
  {
   "cell_type": "markdown",
   "metadata": {},
   "source": [
    "# I.A     Modelling reviews ~ ratings"
   ]
  },
  {
   "cell_type": "code",
   "execution_count": 9,
   "metadata": {},
   "outputs": [],
   "source": [
    "X = rebtel['review']\n",
    "y = rebtel['rating']"
   ]
  },
  {
   "cell_type": "code",
   "execution_count": 10,
   "metadata": {},
   "outputs": [],
   "source": [
    "X_train, X_test, y_train, y_test = train_test_split(X, y, test_size=0.3, random_state=101)"
   ]
  },
  {
   "cell_type": "markdown",
   "metadata": {},
   "source": [
    "## SVM"
   ]
  },
  {
   "cell_type": "code",
   "execution_count": 11,
   "metadata": {},
   "outputs": [
    {
     "name": "stderr",
     "output_type": "stream",
     "text": [
      "C:\\ProgramData\\Anaconda3\\lib\\site-packages\\sklearn\\linear_model\\stochastic_gradient.py:117: DeprecationWarning: n_iter parameter is deprecated in 0.19 and will be removed in 0.21. Use max_iter and tol instead.\n",
      "  DeprecationWarning)\n"
     ]
    },
    {
     "name": "stdout",
     "output_type": "stream",
     "text": [
      "Overall Accuracy:  0.6038592508513053\n",
      "[[135   0   0   2  32]\n",
      " [ 37   0   1   3  16]\n",
      " [ 22   0   7  13  39]\n",
      " [ 21   0   3  16 129]\n",
      " [ 21   0   1   9 374]]\n",
      "\n",
      "\n",
      "             precision    recall  f1-score   support\n",
      "\n",
      "          1       0.57      0.80      0.67       169\n",
      "          2       0.00      0.00      0.00        57\n",
      "          3       0.58      0.09      0.15        81\n",
      "          4       0.37      0.09      0.15       169\n",
      "          5       0.63      0.92      0.75       405\n",
      "\n",
      "avg / total       0.53      0.60      0.52       881\n",
      "\n"
     ]
    },
    {
     "name": "stderr",
     "output_type": "stream",
     "text": [
      "C:\\ProgramData\\Anaconda3\\lib\\site-packages\\sklearn\\metrics\\classification.py:1135: UndefinedMetricWarning: Precision and F-score are ill-defined and being set to 0.0 in labels with no predicted samples.\n",
      "  'precision', 'predicted', average, warn_for)\n"
     ]
    }
   ],
   "source": [
    "# text process 2\n",
    "from sklearn.linear_model import SGDClassifier\n",
    "text_clf_svm = Pipeline([('vect', CountVectorizer(analyzer=text_process_2)),\n",
    "                      ('tfidf', TfidfTransformer()),\n",
    "                      ('clf-svm', SGDClassifier(loss='hinge', penalty='l2',\n",
    "                                            alpha=1e-3, n_iter=5, random_state=42)),\n",
    "                        ])\n",
    "text_clf_svm = text_clf_svm.fit(X_train, y_train)\n",
    "predicted_svm = text_clf_svm.predict(X_test)\n",
    "print('Overall Accuracy: ', np.mean(predicted_svm == y_test))\n",
    "#\n",
    "print(confusion_matrix(y_test, predicted_svm))\n",
    "print('\\n')\n",
    "print(classification_report(y_test, predicted_svm))"
   ]
  },
  {
   "cell_type": "code",
   "execution_count": 2,
   "metadata": {},
   "outputs": [
    {
     "name": "stdout",
     "output_type": "stream",
     "text": [
      "2\n"
     ]
    }
   ],
   "source": [
    "print(2)"
   ]
  },
  {
   "cell_type": "code",
   "execution_count": 15,
   "metadata": {},
   "outputs": [],
   "source": [
    "svm = SGDClassifier(loss='hinge', penalty='l2', alpha=1e-3, n_iter=5, random_state=42)"
   ]
  },
  {
   "cell_type": "code",
   "execution_count": 14,
   "metadata": {},
   "outputs": [],
   "source": [
    "from sklearn.feature_extraction.text import TfidfVectorizer\n",
    "\n",
    "tfidf = TfidfVectorizer()\n",
    "#ngram_range=(1,2)\n"
   ]
  },
  {
   "cell_type": "code",
   "execution_count": 16,
   "metadata": {},
   "outputs": [
    {
     "ename": "AttributeError",
     "evalue": "'SGDClassifier' object has no attribute 'feature_importances_'",
     "output_type": "error",
     "traceback": [
      "\u001b[1;31m---------------------------------------------------------------------------\u001b[0m",
      "\u001b[1;31mAttributeError\u001b[0m                            Traceback (most recent call last)",
      "\u001b[1;32m<ipython-input-16-a449f55050f1>\u001b[0m in \u001b[0;36m<module>\u001b[1;34m()\u001b[0m\n\u001b[1;32m----> 1\u001b[1;33m \u001b[0mfeature_df\u001b[0m \u001b[1;33m=\u001b[0m \u001b[0mpd\u001b[0m\u001b[1;33m.\u001b[0m\u001b[0mDataFrame\u001b[0m\u001b[1;33m(\u001b[0m\u001b[0msvm\u001b[0m\u001b[1;33m.\u001b[0m\u001b[0mfeature_importances_\u001b[0m\u001b[1;33m.\u001b[0m\u001b[0mtolist\u001b[0m\u001b[1;33m(\u001b[0m\u001b[1;33m)\u001b[0m\u001b[1;33m,\u001b[0m\u001b[0mtfidf\u001b[0m\u001b[1;33m.\u001b[0m\u001b[0mget_feature_names\u001b[0m\u001b[1;33m(\u001b[0m\u001b[1;33m)\u001b[0m\u001b[1;33m)\u001b[0m\u001b[1;33m\u001b[0m\u001b[0m\n\u001b[0m\u001b[0;32m      2\u001b[0m \u001b[0mfeature_df\u001b[0m\u001b[1;33m.\u001b[0m\u001b[0mreset_index\u001b[0m\u001b[1;33m(\u001b[0m\u001b[0minplace\u001b[0m\u001b[1;33m=\u001b[0m\u001b[1;32mTrue\u001b[0m\u001b[1;33m)\u001b[0m\u001b[1;33m\u001b[0m\u001b[0m\n\u001b[0;32m      3\u001b[0m \u001b[0mcolumns\u001b[0m \u001b[1;33m=\u001b[0m \u001b[1;33m[\u001b[0m\u001b[1;34m'feature'\u001b[0m\u001b[1;33m,\u001b[0m\u001b[1;34m'importance'\u001b[0m\u001b[1;33m]\u001b[0m\u001b[1;33m\u001b[0m\u001b[0m\n\u001b[0;32m      4\u001b[0m \u001b[0mfeature_df\u001b[0m\u001b[1;33m.\u001b[0m\u001b[0mcolumns\u001b[0m \u001b[1;33m=\u001b[0m \u001b[0mcolumns\u001b[0m\u001b[1;33m\u001b[0m\u001b[0m\n",
      "\u001b[1;31mAttributeError\u001b[0m: 'SGDClassifier' object has no attribute 'feature_importances_'"
     ]
    }
   ],
   "source": [
    "feature_df = pd.DataFrame(svm.feature_importances_.tolist(),tfidf.get_feature_names())\n",
    "feature_df.reset_index(inplace=True)\n",
    "columns = ['feature','importance']\n",
    "feature_df.columns = columns"
   ]
  },
  {
   "cell_type": "markdown",
   "metadata": {},
   "source": [
    "- SVM output for analyzer = text_process_2\n",
    "Overall Accuracy:  0.6038592508513053\n",
    "[[135   0   0   2  32]\n",
    " [ 37   0   1   3  16]\n",
    " [ 22   0   7  13  39]\n",
    " [ 21   0   3  16 129]\n",
    " [ 21   0   1   9 374]]\n",
    "\n",
    "\n",
    "             precision    recall  f1-score   support\n",
    "\n",
    "          1       0.57      0.80      0.67       169\n",
    "          2       0.00      0.00      0.00        57\n",
    "          3       0.58      0.09      0.15        81\n",
    "          4       0.37      0.09      0.15       169\n",
    "          5       0.63      0.92      0.75       405\n",
    "\n",
    "avg / total       0.53      0.60      0.52       881\n"
   ]
  },
  {
   "cell_type": "markdown",
   "metadata": {},
   "source": [
    "## Naive Bayes"
   ]
  },
  {
   "cell_type": "code",
   "execution_count": 35,
   "metadata": {},
   "outputs": [
    {
     "name": "stdout",
     "output_type": "stream",
     "text": [
      "Overall Accuracy:  0.5459704880817253\n",
      "[[ 80   0   0   0  89]\n",
      " [ 17   0   0   0  40]\n",
      " [  9   0   0   0  72]\n",
      " [  5   0   0   0 164]\n",
      " [  4   0   0   0 401]]\n",
      "\n",
      "\n",
      "             precision    recall  f1-score   support\n",
      "\n",
      "          1       0.70      0.47      0.56       169\n",
      "          2       0.00      0.00      0.00        57\n",
      "          3       0.00      0.00      0.00        81\n",
      "          4       0.00      0.00      0.00       169\n",
      "          5       0.52      0.99      0.68       405\n",
      "\n",
      "avg / total       0.37      0.55      0.42       881\n",
      "\n"
     ]
    },
    {
     "name": "stderr",
     "output_type": "stream",
     "text": [
      "C:\\ProgramData\\Anaconda3\\lib\\site-packages\\sklearn\\metrics\\classification.py:1135: UndefinedMetricWarning: Precision and F-score are ill-defined and being set to 0.0 in labels with no predicted samples.\n",
      "  'precision', 'predicted', average, warn_for)\n"
     ]
    }
   ],
   "source": [
    "\n",
    "text_clf = Pipeline([('vect', CountVectorizer(analyzer=text_process_2)),\n",
    "                      ('tfidf', TfidfTransformer()),\n",
    "                      ('clf', MultinomialNB()),\n",
    "                    ])\n",
    "text_clf = text_clf.fit(X_train,y_train)\n",
    "predicted = text_clf.predict(X_test)\n",
    "print('Overall Accuracy: ', np.mean(predicted == y_test))\n",
    "#\n",
    "print(confusion_matrix(y_test, predicted))\n",
    "print('\\n')\n",
    "print(classification_report(y_test, predicted))"
   ]
  },
  {
   "cell_type": "markdown",
   "metadata": {},
   "source": [
    "## Random Forest"
   ]
  },
  {
   "cell_type": "code",
   "execution_count": 10,
   "metadata": {},
   "outputs": [
    {
     "name": "stdout",
     "output_type": "stream",
     "text": [
      "Overall Accuracy:  0.5334846765039728\n",
      "[[108   5   1   9  46]\n",
      " [ 30   3   3   6  15]\n",
      " [ 20   0   6  16  39]\n",
      " [ 19   1   3  34 112]\n",
      " [ 25   2   1  58 319]]\n",
      "\n",
      "\n",
      "             precision    recall  f1-score   support\n",
      "\n",
      "          1       0.53      0.64      0.58       169\n",
      "          2       0.27      0.05      0.09        57\n",
      "          3       0.43      0.07      0.13        81\n",
      "          4       0.28      0.20      0.23       169\n",
      "          5       0.60      0.79      0.68       405\n",
      "\n",
      "avg / total       0.49      0.53      0.49       881\n",
      "\n"
     ]
    }
   ],
   "source": [
    "\n",
    "text_clf_rf = Pipeline([('vect', CountVectorizer(analyzer=text_process_2)),\n",
    "                      ('tfidf', TfidfTransformer()),\n",
    "                      ('rf', RandomForestClassifier()),\n",
    "                    ])\n",
    "text_clf_rf = text_clf_rf.fit(X_train,y_train)\n",
    "predicted_rf = text_clf_rf.predict(X_test)\n",
    "print('Overall Accuracy: ', np.mean(predicted_rf == y_test))\n",
    "#\n",
    "print(confusion_matrix(y_test, predicted_rf))\n",
    "print('\\n')\n",
    "print(classification_report(y_test, predicted_rf))"
   ]
  },
  {
   "cell_type": "markdown",
   "metadata": {},
   "source": [
    "## SVM - Optimization - Grid Search"
   ]
  },
  {
   "cell_type": "code",
   "execution_count": null,
   "metadata": {},
   "outputs": [],
   "source": [
    "from sklearn.model_selection import GridSearchCV\n",
    "parameters_svm = {'vect__ngram_range': [(1, 1), (1, 2)],\n",
    "               'tfidf__use_idf': (True, False),\n",
    "               'clf-svm__alpha': (1e-2, 1e-3),\n",
    "}\n",
    "gs_clf_svm = GridSearchCV(text_clf_svm, parameters_svm, n_jobs=-1)\n",
    "gs_clf_svm = gs_clf_svm.fit(X_train, y_train)\n",
    "gs_clf_svm.best_score_\n",
    "gs_clf_svm.best_params_"
   ]
  },
  {
   "cell_type": "code",
   "execution_count": null,
   "metadata": {},
   "outputs": [],
   "source": [
    "\n",
    "text_clf_svm_gs = Pipeline([('vect', CountVectorizer(ngram_range=(1,1),analyzer=text_process_2)),\n",
    "                      ('tfidf', TfidfTransformer(use_idf=True)),\n",
    "                      ('clf-svm', SGDClassifier(loss='hinge', penalty='l2',\n",
    "                                            alpha=0.001, n_iter=5, random_state=42)),\n",
    " ])\n",
    "text_clf_svm_gs = text_clf_svm_gs.fit(X_train, y_train)\n",
    "predicted_svm_gs = text_clf_svm_gs.predict(X_test)\n",
    "print('Overall Accuracy: ', np.mean(predicted_svm == y_test))\n",
    "#\n",
    "print(confusion_matrix(y_test, predicted_svm_gs))\n",
    "print('\\n')\n",
    "print(classification_report(y_test, predicted_svm_gs))"
   ]
  },
  {
   "cell_type": "markdown",
   "metadata": {},
   "source": [
    "## NB Optimization - Grid Search "
   ]
  },
  {
   "cell_type": "code",
   "execution_count": null,
   "metadata": {},
   "outputs": [],
   "source": [
    "from sklearn.model_selection import GridSearchCV\n",
    "parameters = {'vect__ngram_range': [(1, 1), (1, 2)],\n",
    "               'tfidf__use_idf': (True, False),\n",
    "               'clf__alpha': (1e-2, 1e-3),\n",
    "}\n",
    "gs_clf = GridSearchCV(text_clf, parameters, n_jobs=-1)\n",
    "gs_clf = gs_clf.fit(X_train, y_train)\n",
    "gs_clf.best_score_\n",
    "gs_clf.best_params_"
   ]
  },
  {
   "cell_type": "code",
   "execution_count": null,
   "metadata": {},
   "outputs": [],
   "source": [
    "text_clf_gs = Pipeline([('vect', CountVectorizer(ngram_range=(1,2),analyzer=text_process)),\n",
    "                      ('tfidf', TfidfTransformer(use_idf=False)),\n",
    "                      ('clf', MultinomialNB(alpha=0.01)),\n",
    "                    ])\n",
    "text_clf_gs = text_clf_gs.fit(X_train,y_train)\n",
    "predicted_gs = text_clf_gs.predict(X_test)\n",
    "print('Overall Accuracy: ', np.mean(predicted_gs == y_test))\n",
    "print('\\n')\n",
    "#\n",
    "print(confusion_matrix(y_test, predicted))\n",
    "print('\\n')\n",
    "print(classification_report(y_test, predicted))"
   ]
  },
  {
   "cell_type": "markdown",
   "metadata": {},
   "source": [
    "## RF - Optimization - Grid Search"
   ]
  },
  {
   "cell_type": "code",
   "execution_count": null,
   "metadata": {},
   "outputs": [],
   "source": [
    "from sklearn.grid_search import GridSearchCV\n",
    " \n",
    "rfc = RandomForestClassifier(n_jobs=-1, max_features='sqrt', oob_score = True) \n",
    " \n",
    "# Use a grid over parameters of interest\n",
    "param_grid = { \n",
    "           \"n_estimators\" : [9, 18, 27, 36, 45, 54, 63],\n",
    "           \"max_depth\" : [1, 5, 10, 15, 20, 25, 30],\n",
    "           \"min_samples_leaf\" : [1, 2, 4, 6, 8, 10]}\n",
    " \n",
    "CV_rfc = GridSearchCV(estimator=rfc, param_grid=param_grid, cv= 10)\n",
    "CV_rfc.fit(train_x, train_y)\n",
    "print CV_rfc.best_params_"
   ]
  },
  {
   "cell_type": "code",
   "execution_count": null,
   "metadata": {},
   "outputs": [],
   "source": [
    "from sklearn.model_selection import GridSearchCV\n",
    "parameters_rf = { \n",
    "           \"n_estimators\" : [9, 18, 27, 36, 45, 54, 63],\n",
    "           \"max_depth\" : [1, 5, 10, 15, 20, 25, 30],\n",
    "           \"min_samples_leaf\" : [1, 2, 4, 6, 8, 10]}\n",
    "gs_clf_rf = GridSearchCV(text_clf_rf, parameters_rf, n_jobs=-1)\n",
    "gs_clf_rf = gs_clf_rf.fit(X_train, y_train)\n",
    "gs_clf_rf.best_score_\n",
    "gs_clf_rf.best_params_"
   ]
  },
  {
   "cell_type": "markdown",
   "metadata": {},
   "source": [
    "- Comment: \n",
    "Best result gives SVM model. However, rating 2 is poorly predicted. \n",
    "This might be due to the fact that the set is unbalanced.\n",
    "Use downsampling as the number of ratings 2  is much smaller then the number of ratings 4 and 5."
   ]
  },
  {
   "cell_type": "markdown",
   "metadata": {},
   "source": [
    "# I.A Modelling reviews ~ ratings with Downsampling"
   ]
  },
  {
   "cell_type": "code",
   "execution_count": 5,
   "metadata": {},
   "outputs": [
    {
     "data": {
      "image/png": "[encoded data removed]",
      "text/plain": [
       "<matplotlib.figure.Figure at 0x154e31e6f98>"
      ]
     },
     "metadata": {},
     "output_type": "display_data"
    }
   ],
   "source": [
    "# Check distribution of scores \n",
    "import matplotlib.pyplot as plt\n",
    "fig = plt.figure(figsize=(8,6))\n",
    "rebtel.groupby('rating').review.count().plot.bar(ylim=0)\n",
    "plt.show()"
   ]
  },
  {
   "cell_type": "code",
   "execution_count": 20,
   "metadata": {},
   "outputs": [],
   "source": [
    "score_1 = rebtel[rebtel.rating==1]\n",
    "score_2 = rebtel[rebtel.rating==2]\n",
    "score_3 = rebtel[rebtel.rating==3]\n",
    "score_4 = rebtel[rebtel.rating==4]\n",
    "score_5 = rebtel[rebtel.rating==5]"
   ]
  },
  {
   "cell_type": "code",
   "execution_count": 21,
   "metadata": {},
   "outputs": [
    {
     "name": "stdout",
     "output_type": "stream",
     "text": [
      "Numbers of reviews with score 1:  533\n",
      "Numbers of reviews with score 2:  170\n",
      "Numbers of reviews with score 3:  268\n",
      "Numbers of reviews with score 4:  563\n",
      "Numbers of reviews with score 5:  1400\n"
     ]
    }
   ],
   "source": [
    "print(\"Numbers of reviews with score 1: \",len(score_1))\n",
    "print(\"Numbers of reviews with score 2: \",len(score_2))\n",
    "print(\"Numbers of reviews with score 3: \",len(score_3))\n",
    "print(\"Numbers of reviews with score 4: \",len(score_4))\n",
    "print(\"Numbers of reviews with score 5: \",len(score_5))"
   ]
  },
  {
   "cell_type": "code",
   "execution_count": 22,
   "metadata": {},
   "outputs": [],
   "source": [
    "# Downsampling to n = 170 number of reviews (to balance the set)\n",
    "min_nr = 170\n",
    "import random\n",
    "score_1_downsample = score_1.sample(min_nr)\n",
    "score_2_downsample = score_2\n",
    "score_3_downsample = score_3.sample(min_nr)\n",
    "score_4_downsample = score_4.sample(min_nr)\n",
    "score_5_downsample = score_5.sample(min_nr)\n"
   ]
  },
  {
   "cell_type": "code",
   "execution_count": 23,
   "metadata": {},
   "outputs": [
    {
     "data": {
      "text/plain": [
       "170"
      ]
     },
     "execution_count": 23,
     "metadata": {},
     "output_type": "execute_result"
    }
   ],
   "source": [
    "len(score_2_downsample)"
   ]
  },
  {
   "cell_type": "code",
   "execution_count": 24,
   "metadata": {},
   "outputs": [],
   "source": [
    "set_downsample = score_1_downsample.append(score_2_downsample).append(score_3_downsample).append(score_4_downsample).append(score_5_downsample)"
   ]
  },
  {
   "cell_type": "code",
   "execution_count": 25,
   "metadata": {},
   "outputs": [],
   "source": [
    "X_ds = set_downsample['review']\n",
    "y_ds = set_downsample['rating']"
   ]
  },
  {
   "cell_type": "code",
   "execution_count": 26,
   "metadata": {},
   "outputs": [],
   "source": [
    "#from sklearn.model_selection import train_test_split\n",
    "X_train, X_test, y_train, y_test = train_test_split(X_ds, y_ds, test_size=0.3, random_state=101)"
   ]
  },
  {
   "cell_type": "markdown",
   "metadata": {},
   "source": [
    "## SVM - downsample"
   ]
  },
  {
   "cell_type": "code",
   "execution_count": 21,
   "metadata": {},
   "outputs": [
    {
     "name": "stderr",
     "output_type": "stream",
     "text": [
      "C:\\ProgramData\\Anaconda3\\lib\\site-packages\\sklearn\\linear_model\\stochastic_gradient.py:117: DeprecationWarning: n_iter parameter is deprecated in 0.19 and will be removed in 0.21. Use max_iter and tol instead.\n",
      "  DeprecationWarning)\n"
     ]
    },
    {
     "name": "stdout",
     "output_type": "stream",
     "text": [
      "Overall Accuracy:  0.396078431372549\n",
      "[[29 17  2  2  4]\n",
      " [19 17 10  8  3]\n",
      " [10  8 12  6  6]\n",
      " [ 7  6  9 14 12]\n",
      " [ 3  5  3 14 29]]\n",
      "\n",
      "\n",
      "             precision    recall  f1-score   support\n",
      "\n",
      "          1       0.43      0.54      0.48        54\n",
      "          2       0.32      0.30      0.31        57\n",
      "          3       0.33      0.29      0.31        42\n",
      "          4       0.32      0.29      0.30        48\n",
      "          5       0.54      0.54      0.54        54\n",
      "\n",
      "avg / total       0.39      0.40      0.39       255\n",
      "\n"
     ]
    }
   ],
   "source": [
    "# text analyzer = text_processor 2\n",
    "from sklearn.linear_model import SGDClassifier\n",
    "text_clf_svm = Pipeline([('vect', CountVectorizer(analyzer=text_process_2)),\n",
    "                      ('tfidf', TfidfTransformer()),\n",
    "                      ('clf-svm', SGDClassifier(loss='hinge', penalty='l2',\n",
    "                                            alpha=1e-3, n_iter=5, random_state=42)),\n",
    "                        ])\n",
    "text_clf_svm = text_clf_svm.fit(X_train, y_train)\n",
    "predicted_svm = text_clf_svm.predict(X_test)\n",
    "print('Overall Accuracy: ', np.mean(predicted_svm == y_test))\n",
    "#\n",
    "print(confusion_matrix(y_test, predicted_svm))\n",
    "print('\\n')\n",
    "print(classification_report(y_test, predicted_svm))"
   ]
  },
  {
   "cell_type": "markdown",
   "metadata": {},
   "source": [
    "## SVM downsample - Optimization - Grid Search"
   ]
  },
  {
   "cell_type": "code",
   "execution_count": null,
   "metadata": {},
   "outputs": [],
   "source": [
    "from sklearn.model_selection import GridSearchCV\n",
    "parameters_svm = {'vect__ngram_range': [(1, 1), (1, 2)],\n",
    "               'tfidf__use_idf': (True, False),\n",
    "               'clf-svm__alpha': (1e-2, 1e-3),\n",
    "}\n",
    "gs_clf_svm = GridSearchCV(text_clf_svm, parameters_svm, n_jobs=-1)\n",
    "gs_clf_svm = gs_clf_svm.fit(X_train, y_train)\n",
    "gs_clf_svm.best_score_\n",
    "gs_clf_svm.best_params_"
   ]
  },
  {
   "cell_type": "code",
   "execution_count": null,
   "metadata": {},
   "outputs": [],
   "source": [
    "# text analyzer = normalize\n",
    "text_clf_svm_gs = Pipeline([('vect', CountVectorizer(ngram_range=(1,1),analyzer=text_process_2)),\n",
    "                      ('tfidf', TfidfTransformer(use_idf=True)),\n",
    "                      ('clf-svm', SGDClassifier(loss='hinge', penalty='l2',\n",
    "                                            alpha=0.001, n_iter=5, random_state=42)),\n",
    " ])\n",
    "text_clf_svm_gs = text_clf_svm_gs.fit(X_train, y_train)\n",
    "predicted_svm_gs = text_clf_svm_gs.predict(X_test)\n",
    "print('Overall Accuracy: ', np.mean(predicted_svm == y_test))\n",
    "#\n",
    "print(confusion_matrix(y_test, predicted_svm_gs))\n",
    "print('\\n')\n",
    "print(classification_report(y_test, predicted_svm_gs))"
   ]
  },
  {
   "cell_type": "markdown",
   "metadata": {},
   "source": [
    "--------------------------------------------------------------"
   ]
  },
  {
   "cell_type": "markdown",
   "metadata": {},
   "source": [
    "# Part II"
   ]
  },
  {
   "cell_type": "markdown",
   "metadata": {},
   "source": [
    "# II.A Modelling reviews ~ positivity"
   ]
  },
  {
   "cell_type": "code",
   "execution_count": 19,
   "metadata": {},
   "outputs": [],
   "source": [
    "rebtel = pd.read_csv('C:/Users/Thomas/Desktop/Desktop/Rebtel.tsv',delimiter='\\t',encoding='utf-8')"
   ]
  },
  {
   "cell_type": "code",
   "execution_count": 20,
   "metadata": {},
   "outputs": [],
   "source": [
    "rebtel = rebtel[rebtel['rating'] != 3]\n",
    "rebtel['positivity'] = np.where(rebtel['rating'] > 3, 1, 0)"
   ]
  },
  {
   "cell_type": "code",
   "execution_count": 21,
   "metadata": {},
   "outputs": [],
   "source": [
    "X = rebtel['review']\n",
    "y = rebtel['positivity']"
   ]
  },
  {
   "cell_type": "code",
   "execution_count": 22,
   "metadata": {},
   "outputs": [],
   "source": [
    "X_train, X_test, y_train, y_test = train_test_split(X, y, test_size=0.3, random_state=101)"
   ]
  },
  {
   "cell_type": "markdown",
   "metadata": {},
   "source": [
    "## SVM"
   ]
  },
  {
   "cell_type": "code",
   "execution_count": 31,
   "metadata": {},
   "outputs": [
    {
     "name": "stderr",
     "output_type": "stream",
     "text": [
      "C:\\ProgramData\\Anaconda3\\lib\\site-packages\\sklearn\\linear_model\\stochastic_gradient.py:117: DeprecationWarning: n_iter parameter is deprecated in 0.19 and will be removed in 0.21. Use max_iter and tol instead.\n",
      "  DeprecationWarning)\n"
     ]
    },
    {
     "name": "stdout",
     "output_type": "stream",
     "text": [
      "Overall Accuracy:  0.8925\n",
      "[[144  69]\n",
      " [ 17 570]]\n",
      "\n",
      "\n",
      "             precision    recall  f1-score   support\n",
      "\n",
      "          0       0.89      0.68      0.77       213\n",
      "          1       0.89      0.97      0.93       587\n",
      "\n",
      "avg / total       0.89      0.89      0.89       800\n",
      "\n"
     ]
    }
   ],
   "source": [
    "# text processor = text_process_2\n",
    "from sklearn.linear_model import SGDClassifier\n",
    "text_clf_svm = Pipeline([('vect', CountVectorizer(analyzer=text_process_2)),\n",
    "                      ('tfidf', TfidfTransformer()),\n",
    "                      ('clf-svm', SGDClassifier(loss='hinge', penalty='l2',\n",
    "                                            alpha=1e-3, n_iter=5, random_state=42)),\n",
    "                        ])\n",
    "text_clf_svm = text_clf_svm.fit(X_train, y_train)\n",
    "predicted_svm = text_clf_svm.predict(X_test)\n",
    "print('Overall Accuracy: ', np.mean(predicted_svm == y_test))\n",
    "#\n",
    "print(confusion_matrix(y_test, predicted_svm))\n",
    "print('\\n')\n",
    "print(classification_report(y_test, predicted_svm))"
   ]
  },
  {
   "cell_type": "markdown",
   "metadata": {},
   "source": [
    "### SVM - Optimization - Grid Search"
   ]
  },
  {
   "cell_type": "code",
   "execution_count": null,
   "metadata": {},
   "outputs": [],
   "source": [
    "from sklearn.model_selection import GridSearchCV\n",
    "parameters_svm = {'vect__ngram_range': [(1, 1), (1, 2)],\n",
    "               'tfidf__use_idf': (True, False),\n",
    "               'clf-svm__alpha': (1e-2, 1e-3),\n",
    "}\n",
    "gs_clf_svm = GridSearchCV(text_clf_svm, parameters_svm, n_jobs=-1)\n",
    "gs_clf_svm = gs_clf_svm.fit(X_train, y_train)\n",
    "gs_clf_svm.best_score_\n",
    "gs_clf_svm.best_params_"
   ]
  },
  {
   "cell_type": "markdown",
   "metadata": {},
   "source": [
    "# RANDOM FOREST"
   ]
  },
  {
   "cell_type": "code",
   "execution_count": 19,
   "metadata": {},
   "outputs": [
    {
     "name": "stdout",
     "output_type": "stream",
     "text": [
      "Overall Accuracy:  0.85\n",
      "[[126  87]\n",
      " [ 33 554]]\n",
      "\n",
      "\n",
      "             precision    recall  f1-score   support\n",
      "\n",
      "          0       0.79      0.59      0.68       213\n",
      "          1       0.86      0.94      0.90       587\n",
      "\n",
      "avg / total       0.85      0.85      0.84       800\n",
      "\n"
     ]
    }
   ],
   "source": [
    "\n",
    "text_clf_rf = Pipeline([('vect', CountVectorizer(analyzer=text_process_2)),\n",
    "                      ('tfidf', TfidfTransformer()),\n",
    "                      ('rf', RandomForestClassifier()),\n",
    "                    ])\n",
    "text_clf_rf = text_clf_rf.fit(X_train,y_train)\n",
    "predicted_rf = text_clf_rf.predict(X_test)\n",
    "print('Overall Accuracy: ', np.mean(predicted_rf == y_test))\n",
    "#\n",
    "print(confusion_matrix(y_test, predicted_rf))\n",
    "print('\\n')\n",
    "print(classification_report(y_test, predicted_rf))"
   ]
  },
  {
   "cell_type": "markdown",
   "metadata": {},
   "source": [
    "## RF - Optimization - Grid Search"
   ]
  },
  {
   "cell_type": "code",
   "execution_count": null,
   "metadata": {},
   "outputs": [],
   "source": [
    "# Use a grid over parameters of interest\n",
    "parameters_rf = { \n",
    "           \"n_estimators\" : [9, 18, 27, 36, 45, 54, 63],\n",
    "           \"max_depth\" : [1, 5, 10, 15, 20, 25, 30],\n",
    "           \"min_samples_leaf\" : [1, 2, 4, 6, 8, 10]}\n",
    " \n",
    "gs_clf_rf = GridSearchCV(text_clf_rf, parameters_rf, n_jobs=-1)\n",
    "gs_clf_rf = gs_clf_rf.fit(X_train, y_train)\n",
    "gs_clf_rf.best_score_\n",
    "gs_clf_rf.best_params_\n",
    "    "
   ]
  },
  {
   "cell_type": "markdown",
   "metadata": {},
   "source": [
    "# NAIVE BAYES"
   ]
  },
  {
   "cell_type": "code",
   "execution_count": 18,
   "metadata": {},
   "outputs": [
    {
     "name": "stdout",
     "output_type": "stream",
     "text": [
      "Overall Accuracy:  0.7925\n",
      "[[ 47 166]\n",
      " [  0 587]]\n",
      "\n",
      "\n",
      "             precision    recall  f1-score   support\n",
      "\n",
      "          0       1.00      0.22      0.36       213\n",
      "          1       0.78      1.00      0.88       587\n",
      "\n",
      "avg / total       0.84      0.79      0.74       800\n",
      "\n"
     ]
    }
   ],
   "source": [
    "text_clf = Pipeline([('vect', CountVectorizer(analyzer=text_process)),\n",
    "                      ('tfidf', TfidfTransformer()),\n",
    "                      ('clf', MultinomialNB()),\n",
    "                    ])\n",
    "text_clf = text_clf.fit(X_train,y_train)\n",
    "predicted = text_clf.predict(X_test)\n",
    "print('Overall Accuracy: ', np.mean(predicted == y_test))\n",
    "#\n",
    "print(confusion_matrix(y_test, predicted))\n",
    "print('\\n')\n",
    "print(classification_report(y_test, predicted))"
   ]
  },
  {
   "cell_type": "markdown",
   "metadata": {},
   "source": [
    "- Comment:\n",
    "    All models give better result for predicting positivity\n",
    "    Next step cn be downsampling again since distribution of positivities is not balanced"
   ]
  },
  {
   "cell_type": "code",
   "execution_count": 16,
   "metadata": {},
   "outputs": [
    {
     "data": {
      "image/png": "[encoded data removed]",
      "text/plain": [
       "<matplotlib.figure.Figure at 0x1d79e2b1d68>"
      ]
     },
     "metadata": {},
     "output_type": "display_data"
    }
   ],
   "source": [
    "# Check distribution of scores \n",
    "import matplotlib.pyplot as plt\n",
    "fig = plt.figure(figsize=(8,6))\n",
    "rebtel.groupby('positivity').review.count().plot.bar(ylim=0)\n",
    "plt.show()"
   ]
  },
  {
   "cell_type": "code",
   "execution_count": null,
   "metadata": {},
   "outputs": [],
   "source": [
    "rebtel.groupby('positivity').review.count()"
   ]
  },
  {
   "cell_type": "markdown",
   "metadata": {},
   "source": [
    "## DOWNSAMPLING"
   ]
  },
  {
   "cell_type": "code",
   "execution_count": 23,
   "metadata": {},
   "outputs": [],
   "source": [
    "score_0 = rebtel[rebtel.positivity==0]\n",
    "score_1 = rebtel[rebtel.positivity==1]"
   ]
  },
  {
   "cell_type": "code",
   "execution_count": 25,
   "metadata": {},
   "outputs": [
    {
     "name": "stdout",
     "output_type": "stream",
     "text": [
      "703\n",
      "1963\n"
     ]
    }
   ],
   "source": [
    "print(len(score_0))\n",
    "print(len(score_1))"
   ]
  },
  {
   "cell_type": "code",
   "execution_count": 26,
   "metadata": {},
   "outputs": [],
   "source": [
    "# Downsampling to n = 170 number of reviews (to balance the set)\n",
    "min_nr = 703\n",
    "import random\n",
    "score_0_downsample = score_0\n",
    "score_1_downsample = score_1.sample(min_nr)\n"
   ]
  },
  {
   "cell_type": "code",
   "execution_count": 28,
   "metadata": {},
   "outputs": [],
   "source": [
    "set_downsample = score_0_downsample.append(score_1_downsample)"
   ]
  },
  {
   "cell_type": "code",
   "execution_count": 29,
   "metadata": {},
   "outputs": [],
   "source": [
    "X_ = set_downsample['review']\n",
    "y_ = set_downsample['positivity']"
   ]
  },
  {
   "cell_type": "code",
   "execution_count": 30,
   "metadata": {},
   "outputs": [],
   "source": [
    "X_train_, X_test_, y_train_, y_test_ = train_test_split(X_, y_, test_size=0.3, random_state=101)"
   ]
  },
  {
   "cell_type": "code",
   "execution_count": 31,
   "metadata": {},
   "outputs": [],
   "source": [
    "X_train, X_test, y_train, y_test = X_train_, X_test_, y_train_, y_test_"
   ]
  },
  {
   "cell_type": "markdown",
   "metadata": {},
   "source": [
    "## SVM"
   ]
  },
  {
   "cell_type": "code",
   "execution_count": 32,
   "metadata": {},
   "outputs": [
    {
     "name": "stderr",
     "output_type": "stream",
     "text": [
      "C:\\ProgramData\\Anaconda3\\lib\\site-packages\\sklearn\\linear_model\\stochastic_gradient.py:117: DeprecationWarning: n_iter parameter is deprecated in 0.19 and will be removed in 0.21. Use max_iter and tol instead.\n",
      "  DeprecationWarning)\n"
     ]
    },
    {
     "name": "stdout",
     "output_type": "stream",
     "text": [
      "Overall Accuracy:  0.9004739336492891\n",
      "[[190  22]\n",
      " [ 20 190]]\n",
      "\n",
      "\n",
      "             precision    recall  f1-score   support\n",
      "\n",
      "          0       0.90      0.90      0.90       212\n",
      "          1       0.90      0.90      0.90       210\n",
      "\n",
      "avg / total       0.90      0.90      0.90       422\n",
      "\n"
     ]
    }
   ],
   "source": [
    "# text processor = normalize\n",
    "from sklearn.linear_model import SGDClassifier\n",
    "text_clf_svm = Pipeline([('vect', CountVectorizer(analyzer=text_process_2)),\n",
    "                      ('tfidf', TfidfTransformer()),\n",
    "                      ('clf-svm', SGDClassifier(loss='hinge', penalty='l2',\n",
    "                                            alpha=1e-3, n_iter=5, random_state=42)),\n",
    "                        ])\n",
    "text_clf_svm = text_clf_svm.fit(X_train, y_train)\n",
    "predicted_svm = text_clf_svm.predict(X_test)\n",
    "print('Overall Accuracy: ', np.mean(predicted_svm == y_test))\n",
    "#\n",
    "print(confusion_matrix(y_test, predicted_svm))\n",
    "print('\\n')\n",
    "print(classification_report(y_test, predicted_svm))"
   ]
  },
  {
   "cell_type": "code",
   "execution_count": 86,
   "metadata": {},
   "outputs": [],
   "source": [
    "test = [['rebtel is cheap'],\n",
    "           ['rebtel is expensive'],\n",
    "           ['i called my friend in india and they charged me so much\\\n",
    "           that i have to take a credit to pay it off'],\n",
    "           ['i called kenya and they didnt charge me that much - love it'],           \n",
    "           ['customer service doesnt exist'],\n",
    "           ['customer service is great']]"
   ]
  },
  {
   "cell_type": "code",
   "execution_count": 106,
   "metadata": {},
   "outputs": [],
   "source": [
    "test = [['rebtel is horrible'],['rebtel is horrble'],\n",
    "       ['rebtel is bad'],['rebtel is bed']]"
   ]
  },
  {
   "cell_type": "code",
   "execution_count": 108,
   "metadata": {},
   "outputs": [],
   "source": [
    "test = [['rebtel is so great that i will never recommend it to anyone'],\\\n",
    "        ['rebtel is amazing - when you call with rebtel the line is \\\n",
    "         breaking faster then the speed of light']]\n"
   ]
  },
  {
   "cell_type": "code",
   "execution_count": 109,
   "metadata": {},
   "outputs": [
    {
     "data": {
      "text/plain": [
       "array([1, 1])"
      ]
     },
     "execution_count": 109,
     "metadata": {},
     "output_type": "execute_result"
    }
   ],
   "source": [
    "text_clf_svm.predict(test)"
   ]
  },
  {
   "cell_type": "code",
   "execution_count": 71,
   "metadata": {},
   "outputs": [],
   "source": [
    "test = [['rebtel is not cheap'],\n",
    "           ['rebtel is not expensive']]"
   ]
  },
  {
   "cell_type": "code",
   "execution_count": 82,
   "metadata": {},
   "outputs": [
    {
     "data": {
      "text/plain": [
       "array([1, 1])"
      ]
     },
     "execution_count": 82,
     "metadata": {},
     "output_type": "execute_result"
    }
   ],
   "source": [
    "text_clf_svm.predict([['rebtel is so great that i will never recommend it to anyone'],\\\n",
    "                      ['rebtel is amazing - when you call with rebtel the line is breaking faster then the speed of light']])"
   ]
  },
  {
   "cell_type": "markdown",
   "metadata": {},
   "source": [
    "- Comment:\n",
    " For better prediction:\n",
    "    - improve cleaning: handle typos\n",
    "    - spot sarcastic expressions"
   ]
  }
 ],
 "metadata": {
  "kernelspec": {
   "display_name": "Python 3",
   "language": "python",
   "name": "python3"
  },
  "language_info": {
   "codemirror_mode": {
    "name": "ipython",
    "version": 3
   },
   "file_extension": ".py",
   "mimetype": "text/x-python",
   "name": "python",
   "nbconvert_exporter": "python",
   "pygments_lexer": "ipython3",
   "version": "3.6.4"
  }
 },
 "nbformat": 4,
 "nbformat_minor": 2
}
